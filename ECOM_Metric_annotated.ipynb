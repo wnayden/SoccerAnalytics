{
 "cells": [
  {
   "cell_type": "markdown",
   "metadata": {
    "id": "SkzVrxR9fe8Q"
   },
   "source": [
    "# Import Data"
   ]
  },
  {
   "cell_type": "code",
   "execution_count": 1,
   "metadata": {
    "id": "BXid6azHg6wb"
   },
   "outputs": [],
   "source": [
    "#https://drive.google.com/file/d/1LceICrG4gH4j0pc_kq1DvKbeMt-D3Q9R/view?usp=sharing\n",
    "#!pip install PyDrive\n",
    "from pydrive.auth import GoogleAuth\n",
    "from pydrive.drive import GoogleDrive\n",
    "from google.colab import auth\n",
    "from oauth2client.client import GoogleCredentials\n",
    "\n",
    "# 1. Authenticate and create the PyDrive client.\n",
    "auth.authenticate_user()\n",
    "gauth = GoogleAuth()\n",
    "gauth.credentials = GoogleCredentials.get_application_default()\n",
    "drive = GoogleDrive(gauth)\n",
    "\n",
    "downloaded = drive.CreateFile({'id':\"1LceICrG4gH4j0pc_kq1DvKbeMt-D3Q9R\"})   # replace the id with id of file you want to access\n",
    "downloaded.GetContentFile('MustangsSeason2019.csv')"
   ]
  },
  {
   "cell_type": "code",
   "execution_count": 2,
   "metadata": {
    "id": "E2FZ-BlHfp2N"
   },
   "outputs": [],
   "source": [
    "import pandas as pd\n",
    "data = pd.read_csv('MustangsSeason2019.csv')"
   ]
  },
  {
   "cell_type": "markdown",
   "metadata": {
    "id": "Smk7HBqja4ZK"
   },
   "source": [
    "# ECOM Metric : \n",
    "Expected Outcome to Contribution of Match\n",
    "\n",
    "Reference: \n",
    "Bransen, L., Haaren, J. V., & Velden, M. V. (2019). \n",
    "Measuring soccer players’ contributions to chance \n",
    "creation by valuing their passes. Journal of \n",
    "Quantitative Analysis in Sports, 15(2), 97-116. doi:10.1515/jqas-2018-0020 "
   ]
  },
  {
   "cell_type": "markdown",
   "metadata": {
    "id": "g2GJAD9G1bTQ"
   },
   "source": [
    "Create title column for identification later on group by of metric."
   ]
  },
  {
   "cell_type": "code",
   "execution_count": 3,
   "metadata": {
    "id": "Fl3FOK5WB8F9"
   },
   "outputs": [],
   "source": [
    "data['title'] = data['team1_name'] + ' ' + data['team1_score'].astype(str) + ' - ' + data['team2_name'] + ' ' + data['team2_score'].astype(str)"
   ]
  },
  {
   "cell_type": "markdown",
   "metadata": {
    "id": "Pt65E6yS1m4G"
   },
   "source": [
    "Limit data to only passes and shots"
   ]
  },
  {
   "cell_type": "code",
   "execution_count": 4,
   "metadata": {
    "id": "21o4BP0SbFvs"
   },
   "outputs": [],
   "source": [
    "import pandas as pd\n",
    "\n",
    "pd.set_option(\"display.max_rows\", None)\n",
    "data=data[['team_name','player_name','player_id','action_name','pos_x','pos_y','pos_dest_x','pos_dest_y','game','title']]\n",
    "\n",
    "data = data[~data['pos_x'].isnull()]\n",
    "data = data[~data['pos_y'].isnull()]\n",
    "data = data[~data['pos_dest_x'].isnull()]\n",
    "data = data[~data['pos_dest_y'].isnull()]"
   ]
  },
  {
   "cell_type": "markdown",
   "metadata": {
    "id": "oo743c9U1824"
   },
   "source": [
    "Create a count for whole possession sequences of the Mustangs, from pass 1 to pass n labelled the same. The next possession sequence increments. Needed to attach the outcome of the possession a shot probability label to the possession sequence.\n",
    "\n",
    "Then labelling all shots as 'attack'"
   ]
  },
  {
   "cell_type": "code",
   "execution_count": 5,
   "metadata": {
    "id": "XGKhon4ZbSr8"
   },
   "outputs": [],
   "source": [
    "import numpy as np\n",
    "\n",
    "data['count'] = np.where(data['team_name']=='SMU Mustangs',1,0)\n",
    "\n",
    "poss = data['count'].values\n",
    "\n",
    "count = 0\n",
    "ilist = []\n",
    "for i in range(0,len(poss)):\n",
    "  if poss[i] == 0:\n",
    "    ilist.append(poss[i])\n",
    "  before = i-1\n",
    "  if before == -1:\n",
    "    before = 0\n",
    "  if poss[before] == 0 and poss[i] != 0:\n",
    "    count+=1\n",
    "  if poss[i] != 0:\n",
    "    ilist.append(count)\n",
    "\n",
    "data['possession'] = ilist\n",
    "\n",
    "del data['count']\n",
    "\n",
    "\n",
    "shotall = ['Wide shot','Goal','Shot on target','Shot into the bar/post']\n",
    "\n",
    "actions = data['action_name'].values\n",
    "poss = data['possession'].values\n",
    "\n",
    "collist = []\n",
    "for i in range(0,len(actions)):\n",
    "  if actions[i] in shotall and poss[i] != 0:\n",
    "    collist.append('attack')\n",
    "  else:\n",
    "    collist.append('play')\n",
    "\n",
    "data['on_goal'] = collist\n",
    "\n",
    "data['on_goal'] = np.where(data['team_name']!='SMU Mustangs','opponent',data['on_goal'])\n",
    "\n",
    "attack_poss = data[data['on_goal']=='attack']['possession'].unique()\n",
    "\n",
    "#attack_poss\n",
    "\n",
    "data['on_goal'] = np.where(data['possession'].isin(attack_poss),'attack',data['on_goal'])"
   ]
  },
  {
   "cell_type": "markdown",
   "metadata": {
    "id": "CpqRBpTY22Vq"
   },
   "source": [
    "Adding a count 1 to n to n possession sequence actions, to create a kind of primary key for individual actions. Useful later."
   ]
  },
  {
   "cell_type": "code",
   "execution_count": 6,
   "metadata": {
    "id": "lW4XPyzUeLAn"
   },
   "outputs": [],
   "source": [
    "data = data[data['team_name']=='SMU Mustangs']\n",
    "\n",
    "poss = data['possession'].values\n",
    "\n",
    "count=1\n",
    "countlist = []\n",
    "for i in range(0,len(poss)):\n",
    "  after = i+1\n",
    "  if before < 0:\n",
    "    before = 0\n",
    "  try:\n",
    "    if poss[i] != poss[after]:\n",
    "      countlist.append(count)\n",
    "      count = 1\n",
    "    else:\n",
    "      countlist.append(count)\n",
    "      count+=1\n",
    "  except IndexError:\n",
    "    countlist.append(count)\n",
    "\n",
    "data['count']=countlist\n",
    "\n",
    "#attacking_poss[['action_name','count','possession']]"
   ]
  },
  {
   "cell_type": "markdown",
   "metadata": {
    "id": "2zE1urGI3XUv"
   },
   "source": [
    "Create the label column as a primary key to give each pass a unique label."
   ]
  },
  {
   "cell_type": "code",
   "execution_count": 7,
   "metadata": {
    "id": "R50yYCjHfJRN"
   },
   "outputs": [],
   "source": [
    "data['label'] = data['possession'].astype(str) + '_' + data['count'].astype(str) + '_' + data['on_goal']\n",
    "\n",
    "#data.head(100)"
   ]
  },
  {
   "cell_type": "markdown",
   "metadata": {
    "id": "gWF4Q64k73n5"
   },
   "source": [
    "### Cluster on All Passes with Validation (SSE)"
   ]
  },
  {
   "cell_type": "markdown",
   "metadata": {
    "id": "i_vtZ-AY3eLw"
   },
   "source": [
    "Validating the cluster number on all the passes/shots for Mustangs in 2019. The elbow plot will show a sweet spot for which we will group the pass i to pass j together for the ECOM metric."
   ]
  },
  {
   "cell_type": "code",
   "execution_count": null,
   "metadata": {
    "colab": {
     "base_uri": "https://localhost:8080/",
     "height": 313
    },
    "id": "nX5yq5MfRa9-",
    "outputId": "b8a4c4dd-b75b-4d82-8664-af5ae8472b4f"
   },
   "outputs": [
    {
     "data": {
      "text/plain": [
       "Text(0.5, 1.0, 'Mustangs Season 2019 Passes')"
      ]
     },
     "execution_count": 37,
     "metadata": {
      "tags": []
     },
     "output_type": "execute_result"
    },
    {
     "data": {
      "image/png": "[encoded data removed]",
      "text/plain": [
       "<Figure size 432x288 with 1 Axes>"
      ]
     },
     "metadata": {
      "needs_background": "light",
      "tags": []
     },
     "output_type": "display_data"
    }
   ],
   "source": [
    "from sklearn.cluster import KMeans\n",
    "import matplotlib.pyplot as plt\n",
    "%matplotlib inline\n",
    "\n",
    "data_tocluster = data[['pos_x', 'pos_y', 'pos_dest_x', 'pos_dest_y']].values\n",
    "\n",
    "nC = range(10,61)\n",
    "SSE = []\n",
    "for k in nC:\n",
    "    k_means = KMeans(n_clusters=k,init='k-means++', random_state=1)\n",
    "    k_means.fit(data_tocluster)\n",
    "    SSE.append(k_means.inertia_)\n",
    "\n",
    "plt.plot(nC, SSE)\n",
    "plt.xlabel('Number of Clusters')\n",
    "plt.ylabel('Sum Square Error')\n",
    "plt.title('Mustangs Season 2019 Passes')"
   ]
  },
  {
   "cell_type": "markdown",
   "metadata": {
    "id": "v10RuvJl32tA"
   },
   "source": [
    "The number of clusters chosen is 35."
   ]
  },
  {
   "cell_type": "code",
   "execution_count": 8,
   "metadata": {
    "id": "Vv7FpxZiugDs"
   },
   "outputs": [],
   "source": [
    "from sklearn.cluster import KMeans\n",
    "\n",
    "n = 35\n",
    "\n",
    "model = KMeans(n_clusters=n)\n",
    "features = data[['pos_x', 'pos_y', 'pos_dest_x', 'pos_dest_y']]\n",
    "fit = model.fit(features)\n",
    "clusters = model.predict(features)\n",
    "data['pass_clusters'] = clusters"
   ]
  },
  {
   "cell_type": "code",
   "execution_count": 9,
   "metadata": {
    "id": "1VKRwMsH4UAE"
   },
   "outputs": [],
   "source": [
    "data = data.sort_values('pass_clusters')"
   ]
  },
  {
   "cell_type": "markdown",
   "metadata": {
    "id": "WP-65RlG7lH-"
   },
   "source": [
    "## Probability Labels for Scoring a Goal \n",
    "attached to possession Sequences"
   ]
  },
  {
   "cell_type": "markdown",
   "metadata": {
    "id": "IVpK6VUC4GKe"
   },
   "source": [
    "Creating a dataframe that only has shots and creating a binary class for goal scored for the Logistic Regression."
   ]
  },
  {
   "cell_type": "code",
   "execution_count": 10,
   "metadata": {
    "id": "_kKAy-c58_oy"
   },
   "outputs": [],
   "source": [
    "import numpy as np\n",
    "\n",
    "shotall = ['Wide shot','Shot on target','Shot into the bar/post','Goal']\n",
    "\n",
    "shots = data[data['action_name'].isin(shotall)]\n",
    "shots = shots[shots['team_name']=='SMU Mustangs']\n",
    "shots['success'] = np.where(shots['action_name']=='Goal',1,0)\n",
    "shots = shots[['pos_x','pos_y','success','action_name','team_name','possession','label']]"
   ]
  },
  {
   "cell_type": "markdown",
   "metadata": {
    "id": "sMXYvbMs4TXD"
   },
   "source": [
    "Functions borrowed from soccer analytics notebook used for logistic regression features to create probability labels."
   ]
  },
  {
   "cell_type": "code",
   "execution_count": 11,
   "metadata": {
    "id": "-GvcSLXP7WU4"
   },
   "outputs": [],
   "source": [
    "def distance_to_goal(origin):\n",
    "    dest = np.array([105., 34.])\n",
    "    return np.sqrt(np.sum((origin - dest) ** 2))\n",
    "def goal_angle(origin):\n",
    "    p0 = np.array((105., 30.))  # Left Post\n",
    "    p1 = np.array(origin, dtype=np.float)\n",
    "    p2 = np.array((105., 48.))  # Right Post\n",
    "\n",
    "    v0 = p0 - p1\n",
    "    v1 = p2 - p1\n",
    "\n",
    "    angle = np.abs(np.math.atan2(np.linalg.det([v0, v1]), np.dot(v0, v1)))\n",
    "    \n",
    "    return angle"
   ]
  },
  {
   "cell_type": "markdown",
   "metadata": {
    "id": "FKejo5oq4eKB"
   },
   "source": [
    "Creating features using the functions above."
   ]
  },
  {
   "cell_type": "code",
   "execution_count": 12,
   "metadata": {
    "id": "MpgbRUwH7d9F"
   },
   "outputs": [],
   "source": [
    "shots['distance_to_goal'] = shots.apply(lambda row: distance_to_goal(row[['pos_x', 'pos_y']]), axis=1)\n",
    "shots['goal_angle'] = shots.apply(lambda r: goal_angle(r[['pos_x', 'pos_y']]), axis=1)"
   ]
  },
  {
   "cell_type": "markdown",
   "metadata": {
    "id": "nsq0CDAY4j2C"
   },
   "source": [
    "Fitting and predicting the LogReg model. No there isn't a train test split, but we need all the data as goals and shots are limited and one game simply does not have enough training data to base the rest of the season on."
   ]
  },
  {
   "cell_type": "code",
   "execution_count": 13,
   "metadata": {
    "id": "1YqFjqRo8BFT"
   },
   "outputs": [],
   "source": [
    "from sklearn.linear_model import LogisticRegression\n",
    "model = LogisticRegression()\n",
    "\n",
    "features = shots[['distance_to_goal', 'goal_angle']]\n",
    "labels = shots['success']\n",
    "\n",
    "fit = model.fit(features, labels)\n",
    "\n",
    "predictions = model.predict_proba(features)[:, 1]"
   ]
  },
  {
   "cell_type": "markdown",
   "metadata": {
    "id": "KtEaae7n-Bd0"
   },
   "source": [
    "Visualization of Predictions (sanity check)"
   ]
  },
  {
   "cell_type": "code",
   "execution_count": null,
   "metadata": {
    "colab": {
     "base_uri": "https://localhost:8080/",
     "height": 265
    },
    "id": "8zKVdI7D8JfZ",
    "outputId": "79c0d6b2-c5b3-4aac-def4-99e82ffb88cb"
   },
   "outputs": [
    {
     "data": {
      "image/png": "[encoded data removed]",
      "text/plain": [
       "<Figure size 432x288 with 1 Axes>"
      ]
     },
     "metadata": {
      "needs_background": "light",
      "tags": []
     },
     "output_type": "display_data"
    }
   ],
   "source": [
    "import matplotlib.pyplot as plt\n",
    "plt.plot(sorted(predictions))\n",
    "plt.show()"
   ]
  },
  {
   "cell_type": "markdown",
   "metadata": {
    "id": "00kstTjG5F7K"
   },
   "source": [
    "Adding the probability of scoring to the shots dataframe. Remember, Shots dataframe has a column with possession sequence number that can be merged with all the passes in data. "
   ]
  },
  {
   "cell_type": "code",
   "execution_count": 14,
   "metadata": {
    "id": "u4BiVv4M-I1a"
   },
   "outputs": [],
   "source": [
    "shots['scoring_probability'] = predictions\n",
    "shots = shots[['possession','scoring_probability']]\n",
    "#shots"
   ]
  },
  {
   "cell_type": "markdown",
   "metadata": {
    "id": "EztGzZFL_Ycg"
   },
   "source": [
    "Merging two datasets"
   ]
  },
  {
   "cell_type": "code",
   "execution_count": null,
   "metadata": {
    "colab": {
     "base_uri": "https://localhost:8080/",
     "height": 35
    },
    "id": "_asadbWvAQHG",
    "outputId": "6905347d-9534-43b1-a096-020bbe6839aa"
   },
   "outputs": [
    {
     "data": {
      "text/plain": [
       "(11541, 11)"
      ]
     },
     "execution_count": 59,
     "metadata": {
      "tags": []
     },
     "output_type": "execute_result"
    }
   ],
   "source": [
    "data.shape"
   ]
  },
  {
   "cell_type": "markdown",
   "metadata": {
    "id": "mdKaUnht5iTC"
   },
   "source": [
    "Going to split the data between possession sequences that do not end in a scoring attempt and those that do. Merge the probability labelled shots with the attack possessions dataframe."
   ]
  },
  {
   "cell_type": "code",
   "execution_count": 15,
   "metadata": {
    "id": "P5U-vY7W_ahT"
   },
   "outputs": [],
   "source": [
    "import pandas as pd\n",
    "\n",
    "play = data[data['on_goal']=='play']\n",
    "attack = data[data['on_goal']=='attack']\n",
    "attack = pd.merge(attack,shots,on='possession')"
   ]
  },
  {
   "cell_type": "markdown",
   "metadata": {
    "id": "5OlAmTqs6OT3"
   },
   "source": [
    "There are multiple scoring probabilities per possession in few instances because for example a shot bounced off a goal keeper and resulted in a second shot on goal by the mustangs causes this. The solution is to average these two probabilities for possession sequences."
   ]
  },
  {
   "cell_type": "code",
   "execution_count": 16,
   "metadata": {
    "id": "qv3vyyK2CXKX"
   },
   "outputs": [],
   "source": [
    "poss_prob = attack.groupby('possession')['scoring_probability'].unique()"
   ]
  },
  {
   "cell_type": "code",
   "execution_count": 17,
   "metadata": {
    "id": "p04m0LdhErhJ"
   },
   "outputs": [],
   "source": [
    "poss_n = attack['possession'].unique()\n",
    "poss_n.sort()\n",
    "df = pd.DataFrame({'possession':poss_n,'scoring_probability':poss_prob})\n",
    "#df"
   ]
  },
  {
   "cell_type": "code",
   "execution_count": 18,
   "metadata": {
    "id": "dcrN0df4GhTv"
   },
   "outputs": [],
   "source": [
    "df.index.name = 'index'\n",
    "attack = pd.merge(attack,df,on='possession')\n",
    "scoring_probability_ys = attack['scoring_probability_y'].values\n",
    "sp_list = []\n",
    "for i in range(0,len(scoring_probability_ys)):\n",
    "  if len(scoring_probability_ys[i]) > 1:\n",
    "    sp_list.append(scoring_probability_ys[i].mean())\n",
    "  else:\n",
    "    sp_list.append(scoring_probability_ys[i][0])\n",
    "attack['scoring_probability_3']=sp_list\n",
    "#attack"
   ]
  },
  {
   "cell_type": "markdown",
   "metadata": {
    "id": "Svkl8hL26ppD"
   },
   "source": [
    "The operation isn't 100% perfect, there are a few error duplicates that result for some reason."
   ]
  },
  {
   "cell_type": "code",
   "execution_count": 19,
   "metadata": {
    "id": "ZSTWFDD9K33H"
   },
   "outputs": [],
   "source": [
    "attack.drop_duplicates(subset =\"label\",keep = False, inplace = True) \n",
    "\n",
    "attack = attack.sort_values(by=['possession','count'])\n",
    "\n",
    "attack = attack.drop(labels=['scoring_probability_x','scoring_probability_y'],axis=1)"
   ]
  },
  {
   "cell_type": "markdown",
   "metadata": {
    "id": "tbhjaYZf7FTM"
   },
   "source": [
    "Finally concatenating the play and attack dataframes. The data is now prepared for the formulas of the ECOM metric that require sequences to labelled by their outcome else 0."
   ]
  },
  {
   "cell_type": "code",
   "execution_count": 20,
   "metadata": {
    "colab": {
     "base_uri": "https://localhost:8080/",
     "height": 141
    },
    "id": "r8tzDnprPZJA",
    "outputId": "131ea629-66cc-4e8d-f4d6-9b75007791df"
   },
   "outputs": [
    {
     "name": "stderr",
     "output_type": "stream",
     "text": [
      "/usr/local/lib/python3.6/dist-packages/ipykernel_launcher.py:3: SettingWithCopyWarning: \n",
      "A value is trying to be set on a copy of a slice from a DataFrame.\n",
      "Try using .loc[row_indexer,col_indexer] = value instead\n",
      "\n",
      "See the caveats in the documentation: https://pandas.pydata.org/pandas-docs/stable/user_guide/indexing.html#returning-a-view-versus-a-copy\n",
      "  This is separate from the ipykernel package so we can avoid doing imports until\n"
     ]
    }
   ],
   "source": [
    "import pandas as pd\n",
    "\n",
    "play['scoring_probability_3'] = 0\n",
    "data = pd.concat([play,attack],axis=0)\n",
    "data = data.sort_values(by=['possession','count'])"
   ]
  },
  {
   "cell_type": "code",
   "execution_count": null,
   "metadata": {
    "colab": {
     "base_uri": "https://localhost:8080/",
     "height": 35
    },
    "id": "GVNHnGprQ_zB",
    "outputId": "afef22bd-6905-45b4-9ca1-355aec5f267b"
   },
   "outputs": [
    {
     "data": {
      "text/plain": [
       "(11398, 12)"
      ]
     },
     "execution_count": 128,
     "metadata": {
      "tags": []
     },
     "output_type": "execute_result"
    }
   ],
   "source": [
    "data.shape"
   ]
  },
  {
   "cell_type": "markdown",
   "metadata": {
    "id": "eCTThSMQRqOs"
   },
   "source": [
    "data dataframe has clusters and scoring probabilities attached to possession sequences"
   ]
  },
  {
   "cell_type": "markdown",
   "metadata": {
    "id": "iZiMbQ5RSdK9"
   },
   "source": [
    "### Code for Building the For Loop. Proceed to Epic For Loop Section to run. These following cells are for reference and debugging."
   ]
  },
  {
   "cell_type": "markdown",
   "metadata": {
    "id": "0fNCRNeeSy_y"
   },
   "source": [
    "Clusters labelled from 0 to 34, 35 in total.\n",
    "This is extra code. Creates a dataframe that creates a count for how many actions belong to each pass/shot cluster."
   ]
  },
  {
   "cell_type": "code",
   "execution_count": null,
   "metadata": {
    "id": "Ge0CPt2-SpGz"
   },
   "outputs": [],
   "source": [
    "rows_per_cluster = data.groupby('pass_clusters').count().values\n",
    "rows=[]\n",
    "for i in range(0,len(rows_per_cluster)):\n",
    "  rows.append(rows_per_cluster[i][0])\n",
    "rows\n",
    "cluster = range(0,35)\n",
    "\n",
    "clus_row_df = pd.DataFrame({'cluster':cluster,'n_row':rows})\n",
    "\n",
    "#clus_row_df"
   ]
  },
  {
   "cell_type": "markdown",
   "metadata": {
    "id": "cVkGSXcTt6O5"
   },
   "source": [
    "Below is code that goes in the for loop in separate cells. Purpose is to calculate the V score per row for the Expected Contribution to Outcome of Match metric.\n",
    "\n",
    "Select a single cluster."
   ]
  },
  {
   "cell_type": "code",
   "execution_count": null,
   "metadata": {
    "id": "LU2rbOP_XYKj"
   },
   "outputs": [],
   "source": [
    "tmp = data[data['pass_clusters']==0]"
   ]
  },
  {
   "cell_type": "markdown",
   "metadata": {
    "id": "G5vA7S528tde"
   },
   "source": [
    "Create a count from 1 to n actions within the cluster. This will be used to pit pass i against all pass j for the formula."
   ]
  },
  {
   "cell_type": "code",
   "execution_count": null,
   "metadata": {
    "colab": {
     "base_uri": "https://localhost:8080/",
     "height": 141
    },
    "id": "fOXlZaLpXidY",
    "outputId": "c690eb31-550b-4446-88ab-c952a93d42e9"
   },
   "outputs": [
    {
     "name": "stderr",
     "output_type": "stream",
     "text": [
      "/usr/local/lib/python3.6/dist-packages/ipykernel_launcher.py:1: SettingWithCopyWarning: \n",
      "A value is trying to be set on a copy of a slice from a DataFrame.\n",
      "Try using .loc[row_indexer,col_indexer] = value instead\n",
      "\n",
      "See the caveats in the documentation: https://pandas.pydata.org/pandas-docs/stable/user_guide/indexing.html#returning-a-view-versus-a-copy\n",
      "  \"\"\"Entry point for launching an IPython kernel.\n"
     ]
    }
   ],
   "source": [
    "tmp['clus_counter'] = range(0,len(tmp))"
   ]
  },
  {
   "cell_type": "markdown",
   "metadata": {
    "id": "JT5NSY3L87uu"
   },
   "source": [
    "The following code will explode the data n^2 to allow a comparison between pass i to every pass j"
   ]
  },
  {
   "cell_type": "code",
   "execution_count": null,
   "metadata": {
    "id": "9cZLPyKkYP4M"
   },
   "outputs": [],
   "source": [
    "tmp = (pd.merge(tmp.assign(key = 1), tmp.assign(key = 1), on = 'key').drop(columns = ['key']))\n",
    "\n"
   ]
  },
  {
   "cell_type": "markdown",
   "metadata": {
    "id": "KSUZIXEx9NOi"
   },
   "source": [
    "The Euclidean KNN distance function hard coded. Four arguments for pass i, Four arguments for pass j. The origins distances will be calculated, the destinations will be calculated, and those two distances will be summed and the inverse is returned according to ECOM metric formulas."
   ]
  },
  {
   "cell_type": "code",
   "execution_count": null,
   "metadata": {
    "id": "QHnbUBaigmn7"
   },
   "outputs": [],
   "source": [
    "def distance_passi_passj(passi_pos_x,passi_pos_y,passi_pos_dest_x,passi_pos_dest_y,\n",
    "                         passj_pos_x,passj_pos_y,passj_pos_dest_x,passj_pos_dest_y,):\n",
    "    passi_origin = np.array([passi_pos_x,passi_pos_y])\n",
    "    passj_origin = np.array([passj_pos_x,passj_pos_y])\n",
    "    origins_distance = np.sqrt(np.sum((passi_origin - passj_origin) ** 2))\n",
    "\n",
    "    passi_dest = np.array([passi_pos_dest_x,passi_pos_dest_y])\n",
    "    passj_dest = np.array([passj_pos_dest_x,passj_pos_dest_y])\n",
    "    dests_distance = np.sqrt(np.sum((passi_dest - passj_dest) ** 2))\n",
    "\n",
    "    return 1/np.sum([origins_distance,dests_distance])"
   ]
  },
  {
   "cell_type": "markdown",
   "metadata": {
    "id": "nXT3h1so9smw"
   },
   "source": [
    "Doing the calculations in several columns. Nominator should be numerator (sorry) divided by denominator. s(pi,pj) is the distance functino above.![2formula1.PNG](data:image/png;base64,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)![2formula2.PNG](data:image/png;base64,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)"
   ]
  },
  {
   "cell_type": "code",
   "execution_count": null,
   "metadata": {
    "id": "VbqrscINak0D"
   },
   "outputs": [],
   "source": [
    "import numpy as np\n",
    "\n",
    "tmp['Ve_nominator'] = np.where(tmp['scoring_probability_3_x']>0,\n",
    "                     distance_passi_passj(tmp['pos_x_x'],tmp['pos_y_x'],tmp['pos_dest_x_x'],tmp['pos_dest_y_x'],\n",
    "                                          tmp['pos_x_y'],tmp['pos_y_y'],tmp['pos_dest_x_y'],tmp['pos_dest_y_y'])*tmp['scoring_probability_3_y'],\n",
    "                     0)\n",
    "tmp['Ve_denominator'] = np.where(tmp['scoring_probability_3_x']>0,\n",
    "                     distance_passi_passj(tmp['pos_x_x'],tmp['pos_y_x'],tmp['pos_dest_x_x'],tmp['pos_dest_y_x'],\n",
    "                                          tmp['pos_x_y'],tmp['pos_y_y'],tmp['pos_dest_x_y'],tmp['pos_dest_y_y']),\n",
    "                     0)\n",
    "tmp['Ve'] = np.where(tmp['Ve_denominator']!=0,tmp['Ve_nominator']/tmp['Ve_denominator'],0)\n",
    "\n",
    "\n",
    "tmp['Vs'] = tmp['scoring_probability_3_y'] "
   ]
  },
  {
   "cell_type": "markdown",
   "metadata": {
    "id": "SQfT9JvG-d5l"
   },
   "source": [
    "Collapsing the dataframe to sum the values of Ve and Vs which need to be summed/averaged.\n",
    "\n",
    "Subtracting Ve and Vs to find V the resulting individual pass value for the ECOM metric to be summed."
   ]
  },
  {
   "cell_type": "code",
   "execution_count": null,
   "metadata": {
    "id": "Pz4huhkShfwT"
   },
   "outputs": [],
   "source": [
    "Ve = tmp.groupby(by='clus_counter_x')['Ve'].sum().values\n",
    "\n",
    "Vs = tmp.groupby(by='clus_counter_x')['Vs'].mean().values\n",
    "\n",
    "V = Ve - Vs\n",
    "\n",
    "tmp = tmp.drop_duplicates(subset =\"clus_counter_x\")\n",
    "\n",
    "tmp['V'] = V"
   ]
  },
  {
   "cell_type": "markdown",
   "metadata": {
    "id": "XLTxmDEN-5_5"
   },
   "source": [
    "Cleaning up the dataframe from all the columns that were doubled and not useful. The tmp dataframe rows which only have the label primary key for individual actions and the V label will be concatenated to a dataframe in the for loop for all clusters to then be merged with the original data."
   ]
  },
  {
   "cell_type": "code",
   "execution_count": null,
   "metadata": {
    "colab": {
     "base_uri": "https://localhost:8080/",
     "height": 35
    },
    "id": "PsCEHLVkqdnX",
    "outputId": "60652093-76a0-422c-d6d2-f529ad2e6a4f"
   },
   "outputs": [
    {
     "data": {
      "text/plain": [
       "Index(['label_x', 'V'], dtype='object')"
      ]
     },
     "execution_count": 198,
     "metadata": {
      "tags": []
     },
     "output_type": "execute_result"
    }
   ],
   "source": [
    "tmp = tmp.drop(labels=['team_name_x','action_name_x','pos_x_x','pos_y_x',\n",
    "                 'pos_dest_x_x','pos_dest_y_x','possession_x','on_goal_x','count_x',\n",
    "                 'pass_clusters_x','scoring_probability_3_x','clus_counter_x',\n",
    "                 'team_name_y','action_name_y','pos_x_y','pos_y_y',\n",
    "                 'pos_dest_x_y','pos_dest_y_y','possession_y','on_goal_y','count_y','label_y',\n",
    "                 'pass_clusters_y','scoring_probability_3_y','clus_counter_y','Ve_nominator',\n",
    "                 'Ve_denominator','Ve','Vs'],axis=1)\n",
    "#tmp.columns"
   ]
  },
  {
   "cell_type": "code",
   "execution_count": null,
   "metadata": {
    "id": "A9r6b842tE6y"
   },
   "outputs": [],
   "source": [
    "tmp = tmp.rename(columns={'label_x':'label'})"
   ]
  },
  {
   "cell_type": "markdown",
   "metadata": {
    "id": "4fEUlRQL_fJl"
   },
   "source": [
    "Final formula for calculating ECOM metric. Though its normalized for playing time. We do not have that data and can only measure ECOM by player in total or by game. ![2formula3.PNG](data:image/png;base64,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)"
   ]
  },
  {
   "cell_type": "markdown",
   "metadata": {
    "id": "RYH-l0RpuTAm"
   },
   "source": [
    "## Epic For Loop"
   ]
  },
  {
   "cell_type": "code",
   "execution_count": 21,
   "metadata": {
    "id": "pVIgVIAxuplA"
   },
   "outputs": [],
   "source": [
    "def distance_passi_passj(passi_pos_x,passi_pos_y,passi_pos_dest_x,passi_pos_dest_y,\n",
    "                         passj_pos_x,passj_pos_y,passj_pos_dest_x,passj_pos_dest_y,):\n",
    "    passi_origin = np.array([passi_pos_x,passi_pos_y])\n",
    "    passj_origin = np.array([passj_pos_x,passj_pos_y])\n",
    "    origins_distance = np.sqrt(np.sum((passi_origin - passj_origin) ** 2))\n",
    "\n",
    "    passi_dest = np.array([passi_pos_dest_x,passi_pos_dest_y])\n",
    "    passj_dest = np.array([passj_pos_dest_x,passj_pos_dest_y])\n",
    "    dests_distance = np.sqrt(np.sum((passi_dest - passj_dest) ** 2))\n",
    "\n",
    "    return 1/np.sum([origins_distance,dests_distance])"
   ]
  },
  {
   "cell_type": "code",
   "execution_count": 22,
   "metadata": {
    "colab": {
     "base_uri": "https://localhost:8080/",
     "height": 1000
    },
    "id": "2JEkAZgnuXCC",
    "outputId": "0c04c114-dda0-4c33-e555-c68f2a5881f8"
   },
   "outputs": [
    {
     "name": "stderr",
     "output_type": "stream",
     "text": [
      "/usr/local/lib/python3.6/dist-packages/ipykernel_launcher.py:11: SettingWithCopyWarning: \n",
      "A value is trying to be set on a copy of a slice from a DataFrame.\n",
      "Try using .loc[row_indexer,col_indexer] = value instead\n",
      "\n",
      "See the caveats in the documentation: https://pandas.pydata.org/pandas-docs/stable/user_guide/indexing.html#returning-a-view-versus-a-copy\n",
      "  # This is added back by InteractiveShellApp.init_path()\n",
      "/usr/local/lib/python3.6/dist-packages/ipykernel_launcher.py:11: SettingWithCopyWarning: \n",
      "A value is trying to be set on a copy of a slice from a DataFrame.\n",
      "Try using .loc[row_indexer,col_indexer] = value instead\n",
      "\n",
      "See the caveats in the documentation: https://pandas.pydata.org/pandas-docs/stable/user_guide/indexing.html#returning-a-view-versus-a-copy\n",
      "  # This is added back by InteractiveShellApp.init_path()\n",
      "/usr/local/lib/python3.6/dist-packages/ipykernel_launcher.py:11: SettingWithCopyWarning: \n",
      "A value is trying to be set on a copy of a slice from a DataFrame.\n",
      "Try using .loc[row_indexer,col_indexer] = value instead\n",
      "\n",
      "See the caveats in the documentation: https://pandas.pydata.org/pandas-docs/stable/user_guide/indexing.html#returning-a-view-versus-a-copy\n",
      "  # This is added back by InteractiveShellApp.init_path()\n",
      "/usr/local/lib/python3.6/dist-packages/ipykernel_launcher.py:11: SettingWithCopyWarning: \n",
      "A value is trying to be set on a copy of a slice from a DataFrame.\n",
      "Try using .loc[row_indexer,col_indexer] = value instead\n",
      "\n",
      "See the caveats in the documentation: https://pandas.pydata.org/pandas-docs/stable/user_guide/indexing.html#returning-a-view-versus-a-copy\n",
      "  # This is added back by InteractiveShellApp.init_path()\n",
      "/usr/local/lib/python3.6/dist-packages/ipykernel_launcher.py:11: SettingWithCopyWarning: \n",
      "A value is trying to be set on a copy of a slice from a DataFrame.\n",
      "Try using .loc[row_indexer,col_indexer] = value instead\n",
      "\n",
      "See the caveats in the documentation: https://pandas.pydata.org/pandas-docs/stable/user_guide/indexing.html#returning-a-view-versus-a-copy\n",
      "  # This is added back by InteractiveShellApp.init_path()\n",
      "/usr/local/lib/python3.6/dist-packages/ipykernel_launcher.py:11: SettingWithCopyWarning: \n",
      "A value is trying to be set on a copy of a slice from a DataFrame.\n",
      "Try using .loc[row_indexer,col_indexer] = value instead\n",
      "\n",
      "See the caveats in the documentation: https://pandas.pydata.org/pandas-docs/stable/user_guide/indexing.html#returning-a-view-versus-a-copy\n",
      "  # This is added back by InteractiveShellApp.init_path()\n",
      "/usr/local/lib/python3.6/dist-packages/ipykernel_launcher.py:11: SettingWithCopyWarning: \n",
      "A value is trying to be set on a copy of a slice from a DataFrame.\n",
      "Try using .loc[row_indexer,col_indexer] = value instead\n",
      "\n",
      "See the caveats in the documentation: https://pandas.pydata.org/pandas-docs/stable/user_guide/indexing.html#returning-a-view-versus-a-copy\n",
      "  # This is added back by InteractiveShellApp.init_path()\n",
      "/usr/local/lib/python3.6/dist-packages/ipykernel_launcher.py:11: SettingWithCopyWarning: \n",
      "A value is trying to be set on a copy of a slice from a DataFrame.\n",
      "Try using .loc[row_indexer,col_indexer] = value instead\n",
      "\n",
      "See the caveats in the documentation: https://pandas.pydata.org/pandas-docs/stable/user_guide/indexing.html#returning-a-view-versus-a-copy\n",
      "  # This is added back by InteractiveShellApp.init_path()\n",
      "/usr/local/lib/python3.6/dist-packages/ipykernel_launcher.py:11: SettingWithCopyWarning: \n",
      "A value is trying to be set on a copy of a slice from a DataFrame.\n",
      "Try using .loc[row_indexer,col_indexer] = value instead\n",
      "\n",
      "See the caveats in the documentation: https://pandas.pydata.org/pandas-docs/stable/user_guide/indexing.html#returning-a-view-versus-a-copy\n",
      "  # This is added back by InteractiveShellApp.init_path()\n",
      "/usr/local/lib/python3.6/dist-packages/ipykernel_launcher.py:11: SettingWithCopyWarning: \n",
      "A value is trying to be set on a copy of a slice from a DataFrame.\n",
      "Try using .loc[row_indexer,col_indexer] = value instead\n",
      "\n",
      "See the caveats in the documentation: https://pandas.pydata.org/pandas-docs/stable/user_guide/indexing.html#returning-a-view-versus-a-copy\n",
      "  # This is added back by InteractiveShellApp.init_path()\n",
      "/usr/local/lib/python3.6/dist-packages/ipykernel_launcher.py:11: SettingWithCopyWarning: \n",
      "A value is trying to be set on a copy of a slice from a DataFrame.\n",
      "Try using .loc[row_indexer,col_indexer] = value instead\n",
      "\n",
      "See the caveats in the documentation: https://pandas.pydata.org/pandas-docs/stable/user_guide/indexing.html#returning-a-view-versus-a-copy\n",
      "  # This is added back by InteractiveShellApp.init_path()\n",
      "/usr/local/lib/python3.6/dist-packages/ipykernel_launcher.py:11: SettingWithCopyWarning: \n",
      "A value is trying to be set on a copy of a slice from a DataFrame.\n",
      "Try using .loc[row_indexer,col_indexer] = value instead\n",
      "\n",
      "See the caveats in the documentation: https://pandas.pydata.org/pandas-docs/stable/user_guide/indexing.html#returning-a-view-versus-a-copy\n",
      "  # This is added back by InteractiveShellApp.init_path()\n",
      "/usr/local/lib/python3.6/dist-packages/ipykernel_launcher.py:11: SettingWithCopyWarning: \n",
      "A value is trying to be set on a copy of a slice from a DataFrame.\n",
      "Try using .loc[row_indexer,col_indexer] = value instead\n",
      "\n",
      "See the caveats in the documentation: https://pandas.pydata.org/pandas-docs/stable/user_guide/indexing.html#returning-a-view-versus-a-copy\n",
      "  # This is added back by InteractiveShellApp.init_path()\n",
      "/usr/local/lib/python3.6/dist-packages/ipykernel_launcher.py:11: SettingWithCopyWarning: \n",
      "A value is trying to be set on a copy of a slice from a DataFrame.\n",
      "Try using .loc[row_indexer,col_indexer] = value instead\n",
      "\n",
      "See the caveats in the documentation: https://pandas.pydata.org/pandas-docs/stable/user_guide/indexing.html#returning-a-view-versus-a-copy\n",
      "  # This is added back by InteractiveShellApp.init_path()\n",
      "/usr/local/lib/python3.6/dist-packages/ipykernel_launcher.py:11: SettingWithCopyWarning: \n",
      "A value is trying to be set on a copy of a slice from a DataFrame.\n",
      "Try using .loc[row_indexer,col_indexer] = value instead\n",
      "\n",
      "See the caveats in the documentation: https://pandas.pydata.org/pandas-docs/stable/user_guide/indexing.html#returning-a-view-versus-a-copy\n",
      "  # This is added back by InteractiveShellApp.init_path()\n",
      "/usr/local/lib/python3.6/dist-packages/ipykernel_launcher.py:11: SettingWithCopyWarning: \n",
      "A value is trying to be set on a copy of a slice from a DataFrame.\n",
      "Try using .loc[row_indexer,col_indexer] = value instead\n",
      "\n",
      "See the caveats in the documentation: https://pandas.pydata.org/pandas-docs/stable/user_guide/indexing.html#returning-a-view-versus-a-copy\n",
      "  # This is added back by InteractiveShellApp.init_path()\n",
      "/usr/local/lib/python3.6/dist-packages/ipykernel_launcher.py:11: SettingWithCopyWarning: \n",
      "A value is trying to be set on a copy of a slice from a DataFrame.\n",
      "Try using .loc[row_indexer,col_indexer] = value instead\n",
      "\n",
      "See the caveats in the documentation: https://pandas.pydata.org/pandas-docs/stable/user_guide/indexing.html#returning-a-view-versus-a-copy\n",
      "  # This is added back by InteractiveShellApp.init_path()\n",
      "/usr/local/lib/python3.6/dist-packages/ipykernel_launcher.py:11: SettingWithCopyWarning: \n",
      "A value is trying to be set on a copy of a slice from a DataFrame.\n",
      "Try using .loc[row_indexer,col_indexer] = value instead\n",
      "\n",
      "See the caveats in the documentation: https://pandas.pydata.org/pandas-docs/stable/user_guide/indexing.html#returning-a-view-versus-a-copy\n",
      "  # This is added back by InteractiveShellApp.init_path()\n",
      "/usr/local/lib/python3.6/dist-packages/ipykernel_launcher.py:11: SettingWithCopyWarning: \n",
      "A value is trying to be set on a copy of a slice from a DataFrame.\n",
      "Try using .loc[row_indexer,col_indexer] = value instead\n",
      "\n",
      "See the caveats in the documentation: https://pandas.pydata.org/pandas-docs/stable/user_guide/indexing.html#returning-a-view-versus-a-copy\n",
      "  # This is added back by InteractiveShellApp.init_path()\n",
      "/usr/local/lib/python3.6/dist-packages/ipykernel_launcher.py:11: SettingWithCopyWarning: \n",
      "A value is trying to be set on a copy of a slice from a DataFrame.\n",
      "Try using .loc[row_indexer,col_indexer] = value instead\n",
      "\n",
      "See the caveats in the documentation: https://pandas.pydata.org/pandas-docs/stable/user_guide/indexing.html#returning-a-view-versus-a-copy\n",
      "  # This is added back by InteractiveShellApp.init_path()\n",
      "/usr/local/lib/python3.6/dist-packages/ipykernel_launcher.py:11: SettingWithCopyWarning: \n",
      "A value is trying to be set on a copy of a slice from a DataFrame.\n",
      "Try using .loc[row_indexer,col_indexer] = value instead\n",
      "\n",
      "See the caveats in the documentation: https://pandas.pydata.org/pandas-docs/stable/user_guide/indexing.html#returning-a-view-versus-a-copy\n",
      "  # This is added back by InteractiveShellApp.init_path()\n",
      "/usr/local/lib/python3.6/dist-packages/ipykernel_launcher.py:11: SettingWithCopyWarning: \n",
      "A value is trying to be set on a copy of a slice from a DataFrame.\n",
      "Try using .loc[row_indexer,col_indexer] = value instead\n",
      "\n",
      "See the caveats in the documentation: https://pandas.pydata.org/pandas-docs/stable/user_guide/indexing.html#returning-a-view-versus-a-copy\n",
      "  # This is added back by InteractiveShellApp.init_path()\n",
      "/usr/local/lib/python3.6/dist-packages/ipykernel_launcher.py:11: SettingWithCopyWarning: \n",
      "A value is trying to be set on a copy of a slice from a DataFrame.\n",
      "Try using .loc[row_indexer,col_indexer] = value instead\n",
      "\n",
      "See the caveats in the documentation: https://pandas.pydata.org/pandas-docs/stable/user_guide/indexing.html#returning-a-view-versus-a-copy\n",
      "  # This is added back by InteractiveShellApp.init_path()\n",
      "/usr/local/lib/python3.6/dist-packages/ipykernel_launcher.py:11: SettingWithCopyWarning: \n",
      "A value is trying to be set on a copy of a slice from a DataFrame.\n",
      "Try using .loc[row_indexer,col_indexer] = value instead\n",
      "\n",
      "See the caveats in the documentation: https://pandas.pydata.org/pandas-docs/stable/user_guide/indexing.html#returning-a-view-versus-a-copy\n",
      "  # This is added back by InteractiveShellApp.init_path()\n",
      "/usr/local/lib/python3.6/dist-packages/ipykernel_launcher.py:11: SettingWithCopyWarning: \n",
      "A value is trying to be set on a copy of a slice from a DataFrame.\n",
      "Try using .loc[row_indexer,col_indexer] = value instead\n",
      "\n",
      "See the caveats in the documentation: https://pandas.pydata.org/pandas-docs/stable/user_guide/indexing.html#returning-a-view-versus-a-copy\n",
      "  # This is added back by InteractiveShellApp.init_path()\n",
      "/usr/local/lib/python3.6/dist-packages/ipykernel_launcher.py:11: SettingWithCopyWarning: \n",
      "A value is trying to be set on a copy of a slice from a DataFrame.\n",
      "Try using .loc[row_indexer,col_indexer] = value instead\n",
      "\n",
      "See the caveats in the documentation: https://pandas.pydata.org/pandas-docs/stable/user_guide/indexing.html#returning-a-view-versus-a-copy\n",
      "  # This is added back by InteractiveShellApp.init_path()\n",
      "/usr/local/lib/python3.6/dist-packages/ipykernel_launcher.py:11: SettingWithCopyWarning: \n",
      "A value is trying to be set on a copy of a slice from a DataFrame.\n",
      "Try using .loc[row_indexer,col_indexer] = value instead\n",
      "\n",
      "See the caveats in the documentation: https://pandas.pydata.org/pandas-docs/stable/user_guide/indexing.html#returning-a-view-versus-a-copy\n",
      "  # This is added back by InteractiveShellApp.init_path()\n",
      "/usr/local/lib/python3.6/dist-packages/ipykernel_launcher.py:11: SettingWithCopyWarning: \n",
      "A value is trying to be set on a copy of a slice from a DataFrame.\n",
      "Try using .loc[row_indexer,col_indexer] = value instead\n",
      "\n",
      "See the caveats in the documentation: https://pandas.pydata.org/pandas-docs/stable/user_guide/indexing.html#returning-a-view-versus-a-copy\n",
      "  # This is added back by InteractiveShellApp.init_path()\n",
      "/usr/local/lib/python3.6/dist-packages/ipykernel_launcher.py:11: SettingWithCopyWarning: \n",
      "A value is trying to be set on a copy of a slice from a DataFrame.\n",
      "Try using .loc[row_indexer,col_indexer] = value instead\n",
      "\n",
      "See the caveats in the documentation: https://pandas.pydata.org/pandas-docs/stable/user_guide/indexing.html#returning-a-view-versus-a-copy\n",
      "  # This is added back by InteractiveShellApp.init_path()\n",
      "/usr/local/lib/python3.6/dist-packages/ipykernel_launcher.py:11: SettingWithCopyWarning: \n",
      "A value is trying to be set on a copy of a slice from a DataFrame.\n",
      "Try using .loc[row_indexer,col_indexer] = value instead\n",
      "\n",
      "See the caveats in the documentation: https://pandas.pydata.org/pandas-docs/stable/user_guide/indexing.html#returning-a-view-versus-a-copy\n",
      "  # This is added back by InteractiveShellApp.init_path()\n",
      "/usr/local/lib/python3.6/dist-packages/ipykernel_launcher.py:11: SettingWithCopyWarning: \n",
      "A value is trying to be set on a copy of a slice from a DataFrame.\n",
      "Try using .loc[row_indexer,col_indexer] = value instead\n",
      "\n",
      "See the caveats in the documentation: https://pandas.pydata.org/pandas-docs/stable/user_guide/indexing.html#returning-a-view-versus-a-copy\n",
      "  # This is added back by InteractiveShellApp.init_path()\n",
      "/usr/local/lib/python3.6/dist-packages/ipykernel_launcher.py:11: SettingWithCopyWarning: \n",
      "A value is trying to be set on a copy of a slice from a DataFrame.\n",
      "Try using .loc[row_indexer,col_indexer] = value instead\n",
      "\n",
      "See the caveats in the documentation: https://pandas.pydata.org/pandas-docs/stable/user_guide/indexing.html#returning-a-view-versus-a-copy\n",
      "  # This is added back by InteractiveShellApp.init_path()\n",
      "/usr/local/lib/python3.6/dist-packages/ipykernel_launcher.py:11: SettingWithCopyWarning: \n",
      "A value is trying to be set on a copy of a slice from a DataFrame.\n",
      "Try using .loc[row_indexer,col_indexer] = value instead\n",
      "\n",
      "See the caveats in the documentation: https://pandas.pydata.org/pandas-docs/stable/user_guide/indexing.html#returning-a-view-versus-a-copy\n",
      "  # This is added back by InteractiveShellApp.init_path()\n",
      "/usr/local/lib/python3.6/dist-packages/ipykernel_launcher.py:11: SettingWithCopyWarning: \n",
      "A value is trying to be set on a copy of a slice from a DataFrame.\n",
      "Try using .loc[row_indexer,col_indexer] = value instead\n",
      "\n",
      "See the caveats in the documentation: https://pandas.pydata.org/pandas-docs/stable/user_guide/indexing.html#returning-a-view-versus-a-copy\n",
      "  # This is added back by InteractiveShellApp.init_path()\n",
      "/usr/local/lib/python3.6/dist-packages/ipykernel_launcher.py:11: SettingWithCopyWarning: \n",
      "A value is trying to be set on a copy of a slice from a DataFrame.\n",
      "Try using .loc[row_indexer,col_indexer] = value instead\n",
      "\n",
      "See the caveats in the documentation: https://pandas.pydata.org/pandas-docs/stable/user_guide/indexing.html#returning-a-view-versus-a-copy\n",
      "  # This is added back by InteractiveShellApp.init_path()\n"
     ]
    }
   ],
   "source": [
    "import numpy as np\n",
    "\n",
    "\n",
    "df = pd.DataFrame(data={'label':[0],'V':[0]})\n",
    "\n",
    "\n",
    "for i in range(0,35):\n",
    "\n",
    "  tmp = data[data['pass_clusters']==i]\n",
    "\n",
    "  tmp['clus_counter'] = range(0,len(tmp))\n",
    "\n",
    "  tmp = (pd.merge(tmp.assign(key = 1), tmp.assign(key = 1), on = 'key').drop(columns = ['key']))\n",
    "\n",
    "\n",
    "  tmp['Ve_nominator'] = np.where(tmp['scoring_probability_3_x']>0,\n",
    "                      distance_passi_passj(tmp['pos_x_x'],tmp['pos_y_x'],tmp['pos_dest_x_x'],tmp['pos_dest_y_x'],\n",
    "                                            tmp['pos_x_y'],tmp['pos_y_y'],tmp['pos_dest_x_y'],tmp['pos_dest_y_y'])*tmp['scoring_probability_3_y'],\n",
    "                      0)\n",
    "  tmp['Ve_denominator'] = np.where(tmp['scoring_probability_3_x']>0,\n",
    "                      distance_passi_passj(tmp['pos_x_x'],tmp['pos_y_x'],tmp['pos_dest_x_x'],tmp['pos_dest_y_x'],\n",
    "                                            tmp['pos_x_y'],tmp['pos_y_y'],tmp['pos_dest_x_y'],tmp['pos_dest_y_y']),\n",
    "                      0)\n",
    "  tmp['Ve'] = np.where(tmp['Ve_denominator']!=0,tmp['Ve_nominator']/tmp['Ve_denominator'],0)\n",
    "  tmp['Vs'] = tmp['scoring_probability_3_y'] \n",
    "\n",
    "  Ve = tmp.groupby(by='clus_counter_x')['Ve'].sum().values\n",
    "\n",
    "  Vs = tmp.groupby(by='clus_counter_x')['Vs'].mean().values\n",
    "\n",
    "  V = Ve - Vs\n",
    "\n",
    "  tmp = tmp.drop_duplicates(subset =\"clus_counter_x\")\n",
    "\n",
    "  tmp['V'] = V\n",
    "\n",
    "  tmp = tmp.drop(labels=['team_name_x','action_name_x','pos_x_x','pos_y_x',\n",
    "                  'pos_dest_x_x','pos_dest_y_x','possession_x','on_goal_x','count_x',\n",
    "                  'pass_clusters_x','scoring_probability_3_x','clus_counter_x',\n",
    "                  'team_name_y','action_name_y','pos_x_y','pos_y_y',\n",
    "                  'pos_dest_x_y','pos_dest_y_y','possession_y','on_goal_y','count_y','label_y',\n",
    "                  'pass_clusters_y','scoring_probability_3_y','clus_counter_y','Ve_nominator',\n",
    "                  'Ve_denominator','Ve','Vs','player_name_x','player_name_y','player_id_x','player_id_y',\n",
    "                  'game_x','game_y'],axis=1)\n",
    "\n",
    "  tmp = tmp.rename(columns={'label_x':'label'})\n",
    "\n",
    "  df = pd.concat([df,tmp],axis=0)\n",
    "\n"
   ]
  },
  {
   "cell_type": "markdown",
   "metadata": {
    "id": "VeRuHJDG_xBm"
   },
   "source": [
    "Merging the df dataframe that has the unique labels for pass/shots and the original data dataframe."
   ]
  },
  {
   "cell_type": "code",
   "execution_count": 23,
   "metadata": {
    "id": "BGZXZ9Ypw29B"
   },
   "outputs": [],
   "source": [
    "#df.drop(,axis=0)\n",
    "\n",
    "data = pd.merge(data,df.iloc[1:],on='label')"
   ]
  },
  {
   "cell_type": "markdown",
   "metadata": {
    "id": "ubsilnRy_9I9"
   },
   "source": [
    "# Results ECOM Metric\n",
    "by Player for 2019 Season"
   ]
  },
  {
   "cell_type": "code",
   "execution_count": 25,
   "metadata": {
    "colab": {
     "base_uri": "https://localhost:8080/",
     "height": 451
    },
    "id": "Rsj5CUIU0gaw",
    "outputId": "254a8fbb-54e0-4c37-b53b-85a5b33226a2"
   },
   "outputs": [
    {
     "data": {
      "text/plain": [
       "player_name\n",
       "Brandon Terwege       2779.265326\n",
       "Cole Rainwater          -0.180195\n",
       "DJ Williams            947.603419\n",
       "Eddie Munjoma         4992.001544\n",
       "Gabriel Costa         5195.275642\n",
       "Garrett McLaughlin    5321.915139\n",
       "Grant Makela           147.309621\n",
       "Henrik Bredeli        2409.583968\n",
       "Henry Smith-Hastie     749.649758\n",
       "Jacob Cohen             18.995644\n",
       "Jon-Talen Maples      1112.337581\n",
       "Joshua Berney          104.517632\n",
       "Knut Ahlander         5726.624188\n",
       "Lane Warrington       1350.094884\n",
       "Luke Thompson          156.311793\n",
       "Nick Taylor           1066.213089\n",
       "Nicky Hernandez       3408.793545\n",
       "Noah Hilt             1984.610669\n",
       "Philip Ponder         1619.700570\n",
       "Shane Lanson            51.902949\n",
       "Thomas Haney           919.918774\n",
       "Tobin Shanks           148.682174\n",
       "Wyatt Priest           514.760148\n",
       "Name: V, dtype: float64"
      ]
     },
     "execution_count": 25,
     "metadata": {
      "tags": []
     },
     "output_type": "execute_result"
    }
   ],
   "source": [
    "data.groupby(by=['player_name'])['V'].sum()"
   ]
  },
  {
   "cell_type": "markdown",
   "metadata": {
    "id": "hAEsg2IiAHdb"
   },
   "source": [
    "# Results Again \n",
    "by game"
   ]
  },
  {
   "cell_type": "code",
   "execution_count": 24,
   "metadata": {
    "colab": {
     "base_uri": "https://localhost:8080/",
     "height": 1000
    },
    "id": "EdBFqUMnIAOG",
    "outputId": "e95e3db3-8319-4a2b-bb3c-3622e042f926"
   },
   "outputs": [
    {
     "data": {
      "text/plain": [
       "player_name         title                                           \n",
       "Brandon Terwege     Cincinnati Bearcats 1 - SMU Mustangs 7              170.922707\n",
       "                    Coastal Carolina Chanticleers 0 - SMU Mustangs 1    222.029121\n",
       "                    Denver Pioneers 1 - SMU Mustangs 2                  142.386535\n",
       "                    Duke Blue Devils 0 - SMU Mustangs 2                  -1.234165\n",
       "                    SMU Mustangs 1 - Connecticut Huskies 0              228.032666\n",
       "                    SMU Mustangs 1 - UC Riverside Highlanders 0          46.300573\n",
       "                    SMU Mustangs 2 - Saint Louis Billikens 0            249.066461\n",
       "                    SMU Mustangs 2 - South Florida Bulls 1              108.970113\n",
       "                    SMU Mustangs 2 - UCF Knights 1                      103.958097\n",
       "                    SMU Mustangs 3 - Central Arkansas Bears 0            92.394078\n",
       "                    SMU Mustangs 3 - Memphis Tigers 4                   194.425271\n",
       "                    SMU Mustangs 3 - UCF Knights 3                       32.133846\n",
       "                    SMU Mustangs 5 - Stetson Hatters 0                  247.661599\n",
       "                    SMU Mustangs 6 - Valparaiso Crusaders 0              87.732699\n",
       "                    South Florida Bulls 0 - SMU Mustangs 3              183.071741\n",
       "                    Temple Owls 1 - SMU Mustangs 2                      457.283657\n",
       "                    Tulsa Hurricane 1 - SMU Mustangs 5                   33.900563\n",
       "                    UCF Knights 0 - SMU Mustangs 1                       93.827211\n",
       "                    Virginia Cavaliers 3 - SMU Mustangs 2                86.402553\n",
       "Cole Rainwater      SMU Mustangs 6 - Valparaiso Crusaders 0              -0.180195\n",
       "DJ Williams         Cincinnati Bearcats 1 - SMU Mustangs 7              141.700009\n",
       "                    Denver Pioneers 1 - SMU Mustangs 2                   -0.128511\n",
       "                    Duke Blue Devils 0 - SMU Mustangs 2                 215.084064\n",
       "                    SMU Mustangs 1 - UC Riverside Highlanders 0          -0.104681\n",
       "                    SMU Mustangs 2 - Saint Louis Billikens 0             -0.139894\n",
       "                    SMU Mustangs 2 - South Florida Bulls 1               -0.018035\n",
       "                    SMU Mustangs 3 - Central Arkansas Bears 0           222.450308\n",
       "                    SMU Mustangs 3 - Lipscomb Bisons 0                  180.822334\n",
       "                    SMU Mustangs 3 - UCF Knights 3                       -0.041804\n",
       "                    SMU Mustangs 5 - Stetson Hatters 0                   -0.138373\n",
       "                    SMU Mustangs 6 - Valparaiso Crusaders 0              66.688965\n",
       "                    SMU Mustangs 7 - Houston Baptist Huskies 1           -0.080888\n",
       "                    South Florida Bulls 0 - SMU Mustangs 3               81.128561\n",
       "                    Temple Owls 1 - SMU Mustangs 2                        7.761153\n",
       "                    Tulsa Hurricane 1 - SMU Mustangs 5                   32.620211\n",
       "Eddie Munjoma       Cincinnati Bearcats 1 - SMU Mustangs 7              146.061352\n",
       "                    Coastal Carolina Chanticleers 0 - SMU Mustangs 1    348.594165\n",
       "                    Denver Pioneers 1 - SMU Mustangs 2                  375.299122\n",
       "                    Duke Blue Devils 0 - SMU Mustangs 2                 146.069193\n",
       "                    SMU Mustangs 1 - Connecticut Huskies 0              120.286655\n",
       "                    SMU Mustangs 1 - UC Riverside Highlanders 0         227.267266\n",
       "                    SMU Mustangs 2 - Saint Louis Billikens 0            288.764497\n",
       "                    SMU Mustangs 2 - South Florida Bulls 1               28.010489\n",
       "                    SMU Mustangs 2 - UCF Knights 1                      312.839739\n",
       "                    SMU Mustangs 3 - Central Arkansas Bears 0           391.032941\n",
       "                    SMU Mustangs 3 - Lipscomb Bisons 0                  148.017434\n",
       "                    SMU Mustangs 3 - Memphis Tigers 4                   379.314524\n",
       "                    SMU Mustangs 3 - UCF Knights 3                      231.692924\n",
       "                    SMU Mustangs 5 - Stetson Hatters 0                  374.034778\n",
       "                    SMU Mustangs 6 - Valparaiso Crusaders 0             258.137038\n",
       "                    SMU Mustangs 7 - Houston Baptist Huskies 1          271.376024\n",
       "                    South Florida Bulls 0 - SMU Mustangs 3              185.830778\n",
       "                    Temple Owls 1 - SMU Mustangs 2                      353.092931\n",
       "                    Tulsa Hurricane 1 - SMU Mustangs 5                  251.785371\n",
       "                    UCF Knights 0 - SMU Mustangs 1                      109.319655\n",
       "                    Virginia Cavaliers 3 - SMU Mustangs 2                45.174669\n",
       "Gabriel Costa       Cincinnati Bearcats 1 - SMU Mustangs 7               87.960407\n",
       "                    Coastal Carolina Chanticleers 0 - SMU Mustangs 1    565.026732\n",
       "                    Denver Pioneers 1 - SMU Mustangs 2                  381.432472\n",
       "                    Duke Blue Devils 0 - SMU Mustangs 2                 202.427257\n",
       "                    SMU Mustangs 1 - Connecticut Huskies 0              177.985225\n",
       "                    SMU Mustangs 1 - UC Riverside Highlanders 0         179.395367\n",
       "                    SMU Mustangs 2 - South Florida Bulls 1              284.007614\n",
       "                    SMU Mustangs 2 - UCF Knights 1                      392.692038\n",
       "                    SMU Mustangs 3 - Central Arkansas Bears 0           706.558350\n",
       "                    SMU Mustangs 3 - Memphis Tigers 4                   178.641916\n",
       "                    SMU Mustangs 3 - UCF Knights 3                      393.619191\n",
       "                    SMU Mustangs 5 - Stetson Hatters 0                  183.008022\n",
       "                    SMU Mustangs 6 - Valparaiso Crusaders 0             240.179275\n",
       "                    South Florida Bulls 0 - SMU Mustangs 3              181.504474\n",
       "                    Temple Owls 1 - SMU Mustangs 2                      315.734543\n",
       "                    Tulsa Hurricane 1 - SMU Mustangs 5                  395.382606\n",
       "                    UCF Knights 0 - SMU Mustangs 1                      186.865013\n",
       "                    Virginia Cavaliers 3 - SMU Mustangs 2               142.855140\n",
       "Garrett McLaughlin  Cincinnati Bearcats 1 - SMU Mustangs 7              402.600941\n",
       "                    Coastal Carolina Chanticleers 0 - SMU Mustangs 1    489.879803\n",
       "                    Denver Pioneers 1 - SMU Mustangs 2                  203.294512\n",
       "                    Duke Blue Devils 0 - SMU Mustangs 2                 223.599313\n",
       "                    SMU Mustangs 1 - Connecticut Huskies 0              229.003205\n",
       "                    SMU Mustangs 1 - UC Riverside Highlanders 0          80.851964\n",
       "                    SMU Mustangs 2 - Saint Louis Billikens 0            127.321795\n",
       "                    SMU Mustangs 2 - South Florida Bulls 1              267.911783\n",
       "                    SMU Mustangs 2 - UCF Knights 1                      318.983067\n",
       "                    SMU Mustangs 3 - Central Arkansas Bears 0           328.672889\n",
       "                    SMU Mustangs 3 - Lipscomb Bisons 0                  200.967672\n",
       "                    SMU Mustangs 3 - Memphis Tigers 4                   120.606085\n",
       "                    SMU Mustangs 3 - UCF Knights 3                      310.785328\n",
       "                    SMU Mustangs 5 - Stetson Hatters 0                  274.458656\n",
       "                    SMU Mustangs 6 - Valparaiso Crusaders 0             377.179234\n",
       "                    SMU Mustangs 7 - Houston Baptist Huskies 1          415.764510\n",
       "                    South Florida Bulls 0 - SMU Mustangs 3               66.631176\n",
       "                    Temple Owls 1 - SMU Mustangs 2                      297.897241\n",
       "                    Tulsa Hurricane 1 - SMU Mustangs 5                  182.474531\n",
       "                    UCF Knights 0 - SMU Mustangs 1                      255.253878\n",
       "                    Virginia Cavaliers 3 - SMU Mustangs 2               147.777557\n",
       "Grant Makela        Cincinnati Bearcats 1 - SMU Mustangs 7               19.187868\n",
       "                    Coastal Carolina Chanticleers 0 - SMU Mustangs 1     25.333894\n",
       "                    SMU Mustangs 1 - Connecticut Huskies 0                1.828540\n",
       "                    SMU Mustangs 2 - South Florida Bulls 1                2.663531\n",
       "                    SMU Mustangs 2 - UCF Knights 1                       10.190346\n",
       "                    SMU Mustangs 3 - Central Arkansas Bears 0            32.078304\n",
       "                    SMU Mustangs 3 - Lipscomb Bisons 0                   -0.322958\n",
       "                    SMU Mustangs 3 - Memphis Tigers 4                     2.689497\n",
       "                    SMU Mustangs 3 - UCF Knights 3                        3.739970\n",
       "                    SMU Mustangs 5 - Stetson Hatters 0                    1.758554\n",
       "                    SMU Mustangs 7 - Houston Baptist Huskies 1           10.680944\n",
       "                    South Florida Bulls 0 - SMU Mustangs 3               15.007795\n",
       "                    Temple Owls 1 - SMU Mustangs 2                       23.445670\n",
       "                    UCF Knights 0 - SMU Mustangs 1                       -0.438815\n",
       "                    Virginia Cavaliers 3 - SMU Mustangs 2                -0.533520\n",
       "Henrik Bredeli      Cincinnati Bearcats 1 - SMU Mustangs 7               96.290594\n",
       "                    Coastal Carolina Chanticleers 0 - SMU Mustangs 1    405.501956\n",
       "                    Denver Pioneers 1 - SMU Mustangs 2                   89.338904\n",
       "                    Duke Blue Devils 0 - SMU Mustangs 2                  54.849465\n",
       "                    SMU Mustangs 1 - Connecticut Huskies 0              174.796776\n",
       "                    SMU Mustangs 1 - UC Riverside Highlanders 0         156.892144\n",
       "                    SMU Mustangs 2 - Saint Louis Billikens 0             45.823110\n",
       "                    SMU Mustangs 2 - South Florida Bulls 1               83.757770\n",
       "                    SMU Mustangs 2 - UCF Knights 1                       63.676453\n",
       "                    SMU Mustangs 3 - Central Arkansas Bears 0           199.501102\n",
       "                    SMU Mustangs 3 - Lipscomb Bisons 0                   17.982618\n",
       "                    SMU Mustangs 3 - Memphis Tigers 4                    86.437943\n",
       "                    SMU Mustangs 3 - UCF Knights 3                      212.457139\n",
       "                    SMU Mustangs 5 - Stetson Hatters 0                   65.123375\n",
       "                    SMU Mustangs 6 - Valparaiso Crusaders 0              71.122139\n",
       "                    SMU Mustangs 7 - Houston Baptist Huskies 1          229.431341\n",
       "                    South Florida Bulls 0 - SMU Mustangs 3              131.693651\n",
       "                    Temple Owls 1 - SMU Mustangs 2                      150.682833\n",
       "                    Tulsa Hurricane 1 - SMU Mustangs 5                   29.491942\n",
       "                    UCF Knights 0 - SMU Mustangs 1                       28.453687\n",
       "                    Virginia Cavaliers 3 - SMU Mustangs 2                16.279028\n",
       "Henry Smith-Hastie  Cincinnati Bearcats 1 - SMU Mustangs 7              139.530039\n",
       "                    Coastal Carolina Chanticleers 0 - SMU Mustangs 1     11.045398\n",
       "                    Denver Pioneers 1 - SMU Mustangs 2                   -0.108050\n",
       "                    Duke Blue Devils 0 - SMU Mustangs 2                  34.572075\n",
       "                    SMU Mustangs 1 - UC Riverside Highlanders 0          -0.187637\n",
       "                    SMU Mustangs 2 - Saint Louis Billikens 0             -0.415236\n",
       "                    SMU Mustangs 2 - South Florida Bulls 1               -0.200935\n",
       "                    SMU Mustangs 3 - Central Arkansas Bears 0            20.549544\n",
       "                    SMU Mustangs 3 - Lipscomb Bisons 0                   -0.879346\n",
       "                    SMU Mustangs 3 - Memphis Tigers 4                    -0.138679\n",
       "                    SMU Mustangs 3 - UCF Knights 3                       79.319073\n",
       "                    SMU Mustangs 5 - Stetson Hatters 0                   -0.571954\n",
       "                    SMU Mustangs 6 - Valparaiso Crusaders 0              76.565741\n",
       "                    SMU Mustangs 7 - Houston Baptist Huskies 1          178.440617\n",
       "                    South Florida Bulls 0 - SMU Mustangs 3              145.346587\n",
       "                    Temple Owls 1 - SMU Mustangs 2                       -0.198229\n",
       "                    Tulsa Hurricane 1 - SMU Mustangs 5                   66.980752\n",
       "Jacob Cohen         SMU Mustangs 5 - Stetson Hatters 0                   -0.439278\n",
       "                    SMU Mustangs 6 - Valparaiso Crusaders 0               7.029844\n",
       "                    SMU Mustangs 7 - Houston Baptist Huskies 1           12.405078\n",
       "Jon-Talen Maples    Denver Pioneers 1 - SMU Mustangs 2                  170.723725\n",
       "                    Duke Blue Devils 0 - SMU Mustangs 2                 104.076953\n",
       "                    SMU Mustangs 1 - UC Riverside Highlanders 0          69.217860\n",
       "                    SMU Mustangs 2 - Saint Louis Billikens 0             89.013451\n",
       "                    SMU Mustangs 3 - Central Arkansas Bears 0           192.187555\n",
       "                    SMU Mustangs 3 - Lipscomb Bisons 0                   35.805967\n",
       "                    SMU Mustangs 3 - UCF Knights 3                       10.425042\n",
       "                    SMU Mustangs 6 - Valparaiso Crusaders 0             105.429409\n",
       "                    SMU Mustangs 7 - Houston Baptist Huskies 1          208.253932\n",
       "                    Tulsa Hurricane 1 - SMU Mustangs 5                  127.203686\n",
       "Joshua Berney       Cincinnati Bearcats 1 - SMU Mustangs 7               -0.219531\n",
       "                    SMU Mustangs 5 - Stetson Hatters 0                   -0.177706\n",
       "                    SMU Mustangs 6 - Valparaiso Crusaders 0              71.668285\n",
       "                    SMU Mustangs 7 - Houston Baptist Huskies 1           33.332066\n",
       "                    Tulsa Hurricane 1 - SMU Mustangs 5                   -0.085481\n",
       "Knut Ahlander       Cincinnati Bearcats 1 - SMU Mustangs 7              124.503219\n",
       "                    Coastal Carolina Chanticleers 0 - SMU Mustangs 1    650.461476\n",
       "                    Denver Pioneers 1 - SMU Mustangs 2                  469.897880\n",
       "                    Duke Blue Devils 0 - SMU Mustangs 2                 255.915595\n",
       "                    SMU Mustangs 1 - Connecticut Huskies 0              278.815504\n",
       "                    SMU Mustangs 1 - UC Riverside Highlanders 0         358.089659\n",
       "                    SMU Mustangs 2 - Saint Louis Billikens 0            154.450083\n",
       "                    SMU Mustangs 2 - South Florida Bulls 1               58.586552\n",
       "                    SMU Mustangs 2 - UCF Knights 1                      278.455974\n",
       "                    SMU Mustangs 3 - Central Arkansas Bears 0           464.051036\n",
       "                    SMU Mustangs 3 - Lipscomb Bisons 0                   33.665861\n",
       "                    SMU Mustangs 3 - Memphis Tigers 4                   213.248250\n",
       "                    SMU Mustangs 3 - UCF Knights 3                      252.092573\n",
       "                    SMU Mustangs 5 - Stetson Hatters 0                  130.379707\n",
       "                    SMU Mustangs 6 - Valparaiso Crusaders 0             235.799612\n",
       "                    SMU Mustangs 7 - Houston Baptist Huskies 1          297.073443\n",
       "                    South Florida Bulls 0 - SMU Mustangs 3              287.407771\n",
       "                    Temple Owls 1 - SMU Mustangs 2                      310.955847\n",
       "                    Tulsa Hurricane 1 - SMU Mustangs 5                  356.969557\n",
       "                    UCF Knights 0 - SMU Mustangs 1                      282.192337\n",
       "                    Virginia Cavaliers 3 - SMU Mustangs 2               233.612253\n",
       "Lane Warrington     Cincinnati Bearcats 1 - SMU Mustangs 7               62.127045\n",
       "                    Coastal Carolina Chanticleers 0 - SMU Mustangs 1     78.877074\n",
       "                    Denver Pioneers 1 - SMU Mustangs 2                  119.499023\n",
       "                    Duke Blue Devils 0 - SMU Mustangs 2                   7.291913\n",
       "                    SMU Mustangs 1 - Connecticut Huskies 0               33.697137\n",
       "                    SMU Mustangs 1 - UC Riverside Highlanders 0          -0.353916\n",
       "                    SMU Mustangs 2 - Saint Louis Billikens 0             -0.375253\n",
       "                    SMU Mustangs 2 - South Florida Bulls 1               86.546484\n",
       "                    SMU Mustangs 2 - UCF Knights 1                      264.599828\n",
       "                    SMU Mustangs 3 - Central Arkansas Bears 0           136.181750\n",
       "                    SMU Mustangs 3 - Lipscomb Bisons 0                   26.595988\n",
       "                    SMU Mustangs 3 - Memphis Tigers 4                    55.668779\n",
       "                    SMU Mustangs 3 - UCF Knights 3                       -0.253390\n",
       "                    SMU Mustangs 5 - Stetson Hatters 0                   27.191573\n",
       "                    SMU Mustangs 6 - Valparaiso Crusaders 0             184.418170\n",
       "                    SMU Mustangs 7 - Houston Baptist Huskies 1           14.612084\n",
       "                    South Florida Bulls 0 - SMU Mustangs 3               39.470445\n",
       "                    Temple Owls 1 - SMU Mustangs 2                       93.528039\n",
       "                    Tulsa Hurricane 1 - SMU Mustangs 5                   26.729526\n",
       "                    UCF Knights 0 - SMU Mustangs 1                       95.122538\n",
       "                    Virginia Cavaliers 3 - SMU Mustangs 2                -1.079953\n",
       "Luke Thompson       Cincinnati Bearcats 1 - SMU Mustangs 7               -0.291709\n",
       "                    SMU Mustangs 3 - Lipscomb Bisons 0                   12.935886\n",
       "                    SMU Mustangs 5 - Stetson Hatters 0                   -0.630727\n",
       "                    SMU Mustangs 6 - Valparaiso Crusaders 0              40.042920\n",
       "                    SMU Mustangs 7 - Houston Baptist Huskies 1           73.158519\n",
       "                    South Florida Bulls 0 - SMU Mustangs 3               -0.286598\n",
       "                    Tulsa Hurricane 1 - SMU Mustangs 5                   31.383503\n",
       "Nick Taylor         Cincinnati Bearcats 1 - SMU Mustangs 7               38.499954\n",
       "                    Coastal Carolina Chanticleers 0 - SMU Mustangs 1    116.282106\n",
       "                    Denver Pioneers 1 - SMU Mustangs 2                   33.611563\n",
       "                    Duke Blue Devils 0 - SMU Mustangs 2                  40.453156\n",
       "                    SMU Mustangs 1 - Connecticut Huskies 0               -0.158678\n",
       "                    SMU Mustangs 1 - UC Riverside Highlanders 0          63.769285\n",
       "                    SMU Mustangs 2 - Saint Louis Billikens 0             67.246572\n",
       "                    SMU Mustangs 2 - South Florida Bulls 1               19.863303\n",
       "                    SMU Mustangs 2 - UCF Knights 1                       -0.065153\n",
       "                    SMU Mustangs 3 - Central Arkansas Bears 0            61.206045\n",
       "                    SMU Mustangs 3 - Lipscomb Bisons 0                   -0.634871\n",
       "                    SMU Mustangs 3 - Memphis Tigers 4                    -0.725082\n",
       "                    SMU Mustangs 3 - UCF Knights 3                      136.568137\n",
       "                    SMU Mustangs 5 - Stetson Hatters 0                   67.113133\n",
       "                    SMU Mustangs 6 - Valparaiso Crusaders 0              66.412201\n",
       "                    SMU Mustangs 7 - Houston Baptist Huskies 1          257.579927\n",
       "                    Temple Owls 1 - SMU Mustangs 2                       -0.501765\n",
       "                    Tulsa Hurricane 1 - SMU Mustangs 5                   87.424996\n",
       "                    Virginia Cavaliers 3 - SMU Mustangs 2                12.268260\n",
       "Nicky Hernandez     Cincinnati Bearcats 1 - SMU Mustangs 7              152.560132\n",
       "                    Coastal Carolina Chanticleers 0 - SMU Mustangs 1    296.044935\n",
       "                    Denver Pioneers 1 - SMU Mustangs 2                  181.967693\n",
       "                    Duke Blue Devils 0 - SMU Mustangs 2                  77.726201\n",
       "                    SMU Mustangs 1 - Connecticut Huskies 0               69.382511\n",
       "                    SMU Mustangs 1 - UC Riverside Highlanders 0         229.603906\n",
       "                    SMU Mustangs 2 - Saint Louis Billikens 0             95.739391\n",
       "                    SMU Mustangs 2 - South Florida Bulls 1              131.294647\n",
       "                    SMU Mustangs 2 - UCF Knights 1                       78.127008\n",
       "                    SMU Mustangs 3 - Central Arkansas Bears 0           335.766416\n",
       "                    SMU Mustangs 3 - Lipscomb Bisons 0                  325.020617\n",
       "                    SMU Mustangs 3 - Memphis Tigers 4                   151.028836\n",
       "                    SMU Mustangs 3 - UCF Knights 3                      126.752612\n",
       "                    SMU Mustangs 5 - Stetson Hatters 0                  103.228246\n",
       "                    SMU Mustangs 6 - Valparaiso Crusaders 0               9.967233\n",
       "                    SMU Mustangs 7 - Houston Baptist Huskies 1          221.706098\n",
       "                    South Florida Bulls 0 - SMU Mustangs 3              123.719525\n",
       "                    Temple Owls 1 - SMU Mustangs 2                      391.177089\n",
       "                    Tulsa Hurricane 1 - SMU Mustangs 5                  164.485285\n",
       "                    UCF Knights 0 - SMU Mustangs 1                      130.710759\n",
       "                    Virginia Cavaliers 3 - SMU Mustangs 2                12.784404\n",
       "Noah Hilt           Cincinnati Bearcats 1 - SMU Mustangs 7               84.761782\n",
       "                    Coastal Carolina Chanticleers 0 - SMU Mustangs 1    187.840124\n",
       "                    Denver Pioneers 1 - SMU Mustangs 2                   -0.633907\n",
       "                    SMU Mustangs 1 - Connecticut Huskies 0               99.649693\n",
       "                    SMU Mustangs 1 - UC Riverside Highlanders 0         147.447996\n",
       "                    SMU Mustangs 2 - Saint Louis Billikens 0             35.333914\n",
       "                    SMU Mustangs 2 - South Florida Bulls 1               87.945603\n",
       "                    SMU Mustangs 2 - UCF Knights 1                      140.737271\n",
       "                    SMU Mustangs 3 - Central Arkansas Bears 0            47.653101\n",
       "                    SMU Mustangs 3 - Lipscomb Bisons 0                   82.051204\n",
       "                    SMU Mustangs 3 - Memphis Tigers 4                   103.289245\n",
       "                    SMU Mustangs 3 - UCF Knights 3                       -0.314796\n",
       "                    SMU Mustangs 5 - Stetson Hatters 0                  116.982518\n",
       "                    SMU Mustangs 6 - Valparaiso Crusaders 0             208.016050\n",
       "                    SMU Mustangs 7 - Houston Baptist Huskies 1          262.546239\n",
       "                    South Florida Bulls 0 - SMU Mustangs 3               59.721450\n",
       "                    Temple Owls 1 - SMU Mustangs 2                       73.848107\n",
       "                    Tulsa Hurricane 1 - SMU Mustangs 5                   29.491637\n",
       "                    UCF Knights 0 - SMU Mustangs 1                      168.798519\n",
       "                    Virginia Cavaliers 3 - SMU Mustangs 2                49.444919\n",
       "Philip Ponder       Cincinnati Bearcats 1 - SMU Mustangs 7              132.249088\n",
       "                    Coastal Carolina Chanticleers 0 - SMU Mustangs 1    115.431929\n",
       "                    Duke Blue Devils 0 - SMU Mustangs 2                   8.472149\n",
       "                    SMU Mustangs 1 - Connecticut Huskies 0               93.839102\n",
       "                    SMU Mustangs 1 - UC Riverside Highlanders 0          60.023385\n",
       "                    SMU Mustangs 2 - Saint Louis Billikens 0            134.041863\n",
       "                    SMU Mustangs 2 - South Florida Bulls 1               35.421301\n",
       "                    SMU Mustangs 2 - UCF Knights 1                       40.785795\n",
       "                    SMU Mustangs 3 - Lipscomb Bisons 0                   13.012671\n",
       "                    SMU Mustangs 3 - Memphis Tigers 4                   298.927187\n",
       "                    SMU Mustangs 3 - UCF Knights 3                       -1.534856\n",
       "                    SMU Mustangs 5 - Stetson Hatters 0                  100.224140\n",
       "                    SMU Mustangs 6 - Valparaiso Crusaders 0              76.345415\n",
       "                    SMU Mustangs 7 - Houston Baptist Huskies 1          265.051729\n",
       "                    South Florida Bulls 0 - SMU Mustangs 3               56.012816\n",
       "                    Temple Owls 1 - SMU Mustangs 2                      177.995767\n",
       "                    UCF Knights 0 - SMU Mustangs 1                       -0.806650\n",
       "                    Virginia Cavaliers 3 - SMU Mustangs 2                14.207737\n",
       "Shane Lanson        Cincinnati Bearcats 1 - SMU Mustangs 7               10.677058\n",
       "                    Denver Pioneers 1 - SMU Mustangs 2                   15.525858\n",
       "                    Duke Blue Devils 0 - SMU Mustangs 2                   4.528711\n",
       "                    SMU Mustangs 1 - UC Riverside Highlanders 0           6.622034\n",
       "                    SMU Mustangs 2 - Saint Louis Billikens 0              2.095550\n",
       "                    SMU Mustangs 6 - Valparaiso Crusaders 0              12.895480\n",
       "                    SMU Mustangs 7 - Houston Baptist Huskies 1           -0.039901\n",
       "                    Tulsa Hurricane 1 - SMU Mustangs 5                   -0.401841\n",
       "Thomas Haney        Cincinnati Bearcats 1 - SMU Mustangs 7               74.051025\n",
       "                    Denver Pioneers 1 - SMU Mustangs 2                  113.523218\n",
       "                    Duke Blue Devils 0 - SMU Mustangs 2                  19.532238\n",
       "                    SMU Mustangs 1 - Connecticut Huskies 0               -0.057338\n",
       "                    SMU Mustangs 3 - Central Arkansas Bears 0           113.595157\n",
       "                    SMU Mustangs 3 - Lipscomb Bisons 0                   36.655931\n",
       "                    SMU Mustangs 3 - UCF Knights 3                        6.597979\n",
       "                    SMU Mustangs 5 - Stetson Hatters 0                   -0.305412\n",
       "                    SMU Mustangs 6 - Valparaiso Crusaders 0             200.223922\n",
       "                    SMU Mustangs 7 - Houston Baptist Huskies 1          307.430765\n",
       "                    South Florida Bulls 0 - SMU Mustangs 3               -0.052103\n",
       "                    Temple Owls 1 - SMU Mustangs 2                       10.159889\n",
       "                    Tulsa Hurricane 1 - SMU Mustangs 5                   38.591822\n",
       "                    UCF Knights 0 - SMU Mustangs 1                       -0.028321\n",
       "Tobin Shanks        Cincinnati Bearcats 1 - SMU Mustangs 7               -0.297050\n",
       "                    SMU Mustangs 3 - Central Arkansas Bears 0            -0.066564\n",
       "                    SMU Mustangs 5 - Stetson Hatters 0                   -0.248683\n",
       "                    SMU Mustangs 6 - Valparaiso Crusaders 0             101.505092\n",
       "                    SMU Mustangs 7 - Houston Baptist Huskies 1           47.878881\n",
       "                    South Florida Bulls 0 - SMU Mustangs 3               -0.034556\n",
       "                    Tulsa Hurricane 1 - SMU Mustangs 5                   -0.054947\n",
       "Wyatt Priest        Cincinnati Bearcats 1 - SMU Mustangs 7               15.713433\n",
       "                    Coastal Carolina Chanticleers 0 - SMU Mustangs 1     -0.178785\n",
       "                    Duke Blue Devils 0 - SMU Mustangs 2                  -0.234004\n",
       "                    SMU Mustangs 2 - Saint Louis Billikens 0             -0.069463\n",
       "                    SMU Mustangs 2 - South Florida Bulls 1               -0.052146\n",
       "                    SMU Mustangs 3 - Central Arkansas Bears 0            87.923289\n",
       "                    SMU Mustangs 3 - Lipscomb Bisons 0                   57.727030\n",
       "                    SMU Mustangs 5 - Stetson Hatters 0                   -0.630873\n",
       "                    SMU Mustangs 6 - Valparaiso Crusaders 0             157.742391\n",
       "                    SMU Mustangs 7 - Houston Baptist Huskies 1          162.281581\n",
       "                    South Florida Bulls 0 - SMU Mustangs 3               35.082810\n",
       "                    Tulsa Hurricane 1 - SMU Mustangs 5                   -0.296408\n",
       "                    UCF Knights 0 - SMU Mustangs 1                       -0.248705\n",
       "Name: V, dtype: float64"
      ]
     },
     "execution_count": 24,
     "metadata": {
      "tags": []
     },
     "output_type": "execute_result"
    }
   ],
   "source": [
    "data.groupby(by=['player_name','title'])['V'].sum()"
   ]
  }
 ],
 "metadata": {
  "colab": {
   "collapsed_sections": [
    "k8FNviMnpbGE",
    "p6H5--gm9lj-",
    "MpR95rHA-lDe",
    "S_txmhY-qj98",
    "WEeXfZG-qgY_",
    "zRt4K17PVm_X",
    "1q2klQxp07Cl",
    "PQhygOj2L0CJ"
   ],
   "name": "Capstone_Soccer.ipynb",
   "provenance": [],
   "toc_visible": true
  },
  "kernelspec": {
   "display_name": "Python 3",
   "language": "python",
   "name": "python3"
  },
  "language_info": {
   "codemirror_mode": {
    "name": "ipython",
    "version": 3
   },
   "file_extension": ".py",
   "mimetype": "text/x-python",
   "name": "python",
   "nbconvert_exporter": "python",
   "pygments_lexer": "ipython3",
   "version": "3.7.1"
  }
 },
 "nbformat": 4,
 "nbformat_minor": 1
}
